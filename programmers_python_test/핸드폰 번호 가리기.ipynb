{
 "cells": [
  {
   "cell_type": "markdown",
   "id": "16c98811",
   "metadata": {},
   "source": [
    "## 문제 설명\n",
    "프로그래머스 모바일은 개인정보 보호를 위해 고지서를 보낼 때 고객들의 전화번호의 일부를 가립니다.\n",
    "전화번호가 문자열 phone_number로 주어졌을 때, 전화번호의 뒷 4자리를 제외한 나머지 숫자를 전부 *으로 가린 문자열을 리턴하는 함수, solution을 완성해주세요.\n",
    "\n",
    "## 제한 조건\n",
    "phone_number는 길이 4 이상, 20이하인 문자열입니다.\n",
    "\n",
    "## 입출력 예\n",
    "phone_number\treturn\n",
    "\"01033334444\"\t\"*******4444\"\n",
    "\"027778888\"\t\"*****8888\""
   ]
  },
  {
   "cell_type": "code",
   "execution_count": 2,
   "id": "fda89769",
   "metadata": {},
   "outputs": [
    {
     "name": "stdout",
     "output_type": "stream",
     "text": [
      "*****8888\n"
     ]
    }
   ],
   "source": [
    "def solution(phone_number):\n",
    "    count_star = len(phone_number) - 4\n",
    "    back_4 = phone_number[-4:]\n",
    "\n",
    "    \n",
    "    answer = \"*\" * count_star + back_4\n",
    "    return answer\n",
    "\n",
    "print(solution(\"027778888\"))  "
   ]
  },
  {
   "cell_type": "code",
   "execution_count": null,
   "id": "8d7ec4b2",
   "metadata": {},
   "outputs": [
    {
     "name": "stdout",
     "output_type": "stream",
     "text": [
      "*****8888\n"
     ]
    }
   ],
   "source": [
    "# 다른사람 풀이\n",
    "# 그냥 내 풀이를 한줄로 표현\n",
    "def solution(phone_number):\n",
    "    return '*' * (len(phone_number) - 4) + phone_number[-4:]\n",
    "\n",
    "print(solution(\"027778888\"))  "
   ]
  }
 ],
 "metadata": {
  "kernelspec": {
   "display_name": ".venv",
   "language": "python",
   "name": "python3"
  },
  "language_info": {
   "codemirror_mode": {
    "name": "ipython",
    "version": 3
   },
   "file_extension": ".py",
   "mimetype": "text/x-python",
   "name": "python",
   "nbconvert_exporter": "python",
   "pygments_lexer": "ipython3",
   "version": "3.13.2"
  }
 },
 "nbformat": 4,
 "nbformat_minor": 5
}
