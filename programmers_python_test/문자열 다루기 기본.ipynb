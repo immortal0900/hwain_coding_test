{
 "cells": [
  {
   "cell_type": "markdown",
   "id": "2c3f3e65",
   "metadata": {},
   "source": [
    "## 문제 설명\n",
    "문자열 s의 길이가 4 혹은 6이고, 숫자로만 구성돼있는지 확인해주는 함수, solution을 완성하세요. 예를 들어 s가 \"a234\"이면 False를 리턴하고 \"1234\"라면 True를 리턴하면 됩니다.\n",
    "\n",
    "## 제한 사항\n",
    "s는 길이 1 이상, 길이 8 이하인 문자열입니다.\n",
    "s는 영문 알파벳 대소문자 또는 0부터 9까지 숫자로 이루어져 있습니다.\n",
    "\n",
    "## 입출력 예\n",
    "s\treturn\n",
    "\"a234\"\tfalse\n",
    "\"1234\"\ttrue\n",
    "문제가 잘 안풀린다면😢"
   ]
  },
  {
   "cell_type": "code",
   "execution_count": 7,
   "id": "397bb7e6",
   "metadata": {},
   "outputs": [
    {
     "name": "stdout",
     "output_type": "stream",
     "text": [
      "False\n"
     ]
    }
   ],
   "source": [
    "def solution(s):\n",
    "\n",
    "    if len(s) == 4 or len(s) ==6:\n",
    "        if s.isdigit():\n",
    "            return True\n",
    "        else:\n",
    "            return False\n",
    "    else:\n",
    "        return False\n",
    "\n",
    "print(solution(\"12534\")) "
   ]
  },
  {
   "cell_type": "code",
   "execution_count": null,
   "id": "5a9a6048",
   "metadata": {},
   "outputs": [
    {
     "name": "stdout",
     "output_type": "stream",
     "text": [
      "True\n"
     ]
    }
   ],
   "source": [
    "# 다른사람 풀이\n",
    "# and가 모두 만족해야 True를 반환하는 점을 이용\n",
    "def solution(s):\n",
    "    return s.isdigit() and len(s) in [4, 6]\n",
    "\n",
    "print(solution(\"1254\")) "
   ]
  }
 ],
 "metadata": {
  "kernelspec": {
   "display_name": ".venv",
   "language": "python",
   "name": "python3"
  },
  "language_info": {
   "codemirror_mode": {
    "name": "ipython",
    "version": 3
   },
   "file_extension": ".py",
   "mimetype": "text/x-python",
   "name": "python",
   "nbconvert_exporter": "python",
   "pygments_lexer": "ipython3",
   "version": "3.13.2"
  }
 },
 "nbformat": 4,
 "nbformat_minor": 5
}
