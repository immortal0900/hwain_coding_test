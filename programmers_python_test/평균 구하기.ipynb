{
 "cells": [
  {
   "cell_type": "markdown",
   "id": "fb677e75",
   "metadata": {},
   "source": [
    "## 문제 설명\n",
    "정수를 담고 있는 배열 arr의 평균값을 return하는 함수, solution을 완성해보세요.\n",
    "\n",
    "## 제한사항\n",
    "arr은 길이 1 이상, 100 이하인 배열입니다.\n",
    "arr의 원소는 -10,000 이상 10,000 이하인 정수입니다.\n",
    "\n",
    "## 입출력 예\n",
    "arr\treturn\n",
    "[1,2,3,4]\t2.5\n",
    "[5,5]\t5"
   ]
  },
  {
   "cell_type": "code",
   "execution_count": null,
   "id": "259ecf00",
   "metadata": {},
   "outputs": [],
   "source": [
    "import numpy as np\n",
    "\n",
    "def solution(arr):\n",
    "    answer = np.mean(arr)\n",
    "    print(answer)\n",
    "    return answer\n",
    "solution([1, 2, 3, 4]) "
   ]
  },
  {
   "cell_type": "code",
   "execution_count": null,
   "id": "4cb0e825",
   "metadata": {},
   "outputs": [],
   "source": [
    "def solution(arr):\n",
    "    answer =  sum(arr)/len(arr)\n",
    "    return answer"
   ]
  }
 ],
 "metadata": {
  "kernelspec": {
   "display_name": ".venv",
   "language": "python",
   "name": "python3"
  },
  "language_info": {
   "name": "python",
   "version": "3.13.2"
  }
 },
 "nbformat": 4,
 "nbformat_minor": 5
}
