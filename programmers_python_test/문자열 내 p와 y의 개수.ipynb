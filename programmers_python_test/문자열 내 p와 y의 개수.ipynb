{
 "cells": [
  {
   "cell_type": "markdown",
   "id": "405b606b",
   "metadata": {},
   "source": [
    "## 문제 설명\n",
    "대문자와 소문자가 섞여있는 문자열 s가 주어집니다. s에 'p'의 개수와 'y'의 개수를 비교해 같으면 True, 다르면 False를 return 하는 solution를 완성하세요. 'p', 'y' 모두 하나도 없는 경우는 항상 True를 리턴합니다. 단, 개수를 비교할 때 대문자와 소문자는 구별하지 않습니다.\n",
    "\n",
    "예를 들어 s가 \"pPoooyY\"면 true를 return하고 \"Pyy\"라면 false를 return합니다.\n",
    "\n",
    "## 제한사항\n",
    "문자열 s의 길이 : 50 이하의 자연수\n",
    "문자열 s는 알파벳으로만 이루어져 있습니다.\n",
    "\n",
    "## 입출력 예\n",
    "s\tanswer\n",
    "\"pPoooyY\"\ttrue\n",
    "\"Pyy\"\tfalse\n",
    "입출력 예 설명\n",
    "입출력 예 #1\n",
    "'p'의 개수 2개, 'y'의 개수 2개로 같으므로 true를 return 합니다.\n",
    "\n",
    "## 입출력 예 #2\n",
    "'p'의 개수 1개, 'y'의 개수 2개로 다르므로 false를 return 합니다.\n",
    "\n",
    "※ 공지 - 2021년 8월 23일 테스트케이스가 추가되었습니다."
   ]
  },
  {
   "cell_type": "code",
   "execution_count": 2,
   "id": "c906b951",
   "metadata": {},
   "outputs": [
    {
     "name": "stdout",
     "output_type": "stream",
     "text": [
      "False\n"
     ]
    }
   ],
   "source": [
    "def solution(s):\n",
    "    if s.count('p') + s.count('P') == s.count('y') + s.count('Y'):\n",
    "        return True\n",
    "    elif s.count('p') + s.count('P') == 0 and s.count('y') + s.count('Y') == 0:\n",
    "        return True\n",
    "    else:\n",
    "        return False\n",
    "    \n",
    "\n",
    "    \n",
    "\n",
    "\n",
    "    # [실행] 버튼을 누르면 출력 값을 볼 수 있습니다.\n",
    "print(solution(\"Pyy\"))\n"
   ]
  },
  {
   "cell_type": "code",
   "execution_count": null,
   "id": "e83a8d1c",
   "metadata": {},
   "outputs": [
    {
     "name": "stdout",
     "output_type": "stream",
     "text": [
      "True\n"
     ]
    }
   ],
   "source": [
    "def solution(s):\n",
    "    if s.count('p') + s.count('P') == s.count('y') + s.count('Y'):\n",
    "        return True\n",
    "# 어차피 대소문자 구분 없이 'p'와 'y'의 개수가 같으면 True가 되므로 양쪽이 0인 경우를 따로 처리할 필요 없음.\n",
    "    else:\n",
    "        return False\n",
    "    \n",
    "\n",
    "    \n",
    "\n",
    "\n",
    "    # [실행] 버튼을 누르면 출력 값을 볼 수 있습니다.\n",
    "print(solution(\"Pyyp\"))"
   ]
  },
  {
   "cell_type": "code",
   "execution_count": null,
   "id": "b9d255ee",
   "metadata": {},
   "outputs": [
    {
     "name": "stdout",
     "output_type": "stream",
     "text": [
      "False\n"
     ]
    }
   ],
   "source": [
    "# 다른사람 코드\n",
    "# 'y' 'p'둘다 없는 경우에도 True가 나오는 이유는 양쪽이 모두 0이 되기 때문이다.\n",
    "def solution(s):\n",
    "    return s.lower().count('p') == s.lower().count('y')\n",
    "\n",
    "print(solution(\"ody\"))"
   ]
  }
 ],
 "metadata": {
  "kernelspec": {
   "display_name": ".venv",
   "language": "python",
   "name": "python3"
  },
  "language_info": {
   "codemirror_mode": {
    "name": "ipython",
    "version": 3
   },
   "file_extension": ".py",
   "mimetype": "text/x-python",
   "name": "python",
   "nbconvert_exporter": "python",
   "pygments_lexer": "ipython3",
   "version": "3.13.2"
  }
 },
 "nbformat": 4,
 "nbformat_minor": 5
}
