{
 "cells": [
  {
   "cell_type": "markdown",
   "id": "7a97b3aa",
   "metadata": {},
   "source": [
    "## 문제 설명\n",
    "이 문제에는 표준 입력으로 두 개의 정수 n과 m이 주어집니다.\n",
    "별(*) 문자를 이용해 가로의 길이가 n, 세로의 길이가 m인 직사각형 형태를 출력해보세요.\n",
    "\n",
    "## 제한 조건\n",
    "n과 m은 각각 1000 이하인 자연수입니다.\n",
    "\n",
    "## 예시\n",
    "입력\n",
    "5 3"
   ]
  },
  {
   "cell_type": "code",
   "execution_count": 1,
   "id": "108dff9f",
   "metadata": {},
   "outputs": [
    {
     "name": "stdout",
     "output_type": "stream",
     "text": [
      "*****\n",
      "*****\n",
      "*****\n"
     ]
    }
   ],
   "source": [
    "two_num = map(int,input().split())\n",
    "n,m = two_num\n",
    "\n",
    "for num in range(m):\n",
    "    print(\"*\" * n)"
   ]
  }
 ],
 "metadata": {
  "kernelspec": {
   "display_name": ".venv",
   "language": "python",
   "name": "python3"
  },
  "language_info": {
   "codemirror_mode": {
    "name": "ipython",
    "version": 3
   },
   "file_extension": ".py",
   "mimetype": "text/x-python",
   "name": "python",
   "nbconvert_exporter": "python",
   "pygments_lexer": "ipython3",
   "version": "3.13.2"
  }
 },
 "nbformat": 4,
 "nbformat_minor": 5
}
