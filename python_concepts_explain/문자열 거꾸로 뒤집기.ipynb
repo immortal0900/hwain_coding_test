{
 "cells": [
  {
   "cell_type": "markdown",
   "id": "5a0940f4",
   "metadata": {},
   "source": [
    "문자열 거꾸로 뒤집는 함수 완전 가이드\n",
    "1단계: 가장 간단한 방법 - 슬라이싱\n",
    "슬라이싱을 사용하면 한 줄로 문자열을 뒤집을 수 있습니다.\n",
    "심상화: 책의 페이지를 마지막부터 첫 번째까지 거꾸로 넘기는 것과 같습니다."
   ]
  },
  {
   "cell_type": "code",
   "execution_count": 1,
   "id": "f8d7e633",
   "metadata": {},
   "outputs": [
    {
     "name": "stdout",
     "output_type": "stream",
     "text": [
      "원본: 안녕하세요\n",
      "뒤집힌: 요세하녕안\n"
     ]
    }
   ],
   "source": [
    "def reverse_string_simple(text):\n",
    "    \"\"\"슬라이싱으로 문자열 뒤집기\"\"\"\n",
    "    return text[::-1]\n",
    "\n",
    "# 사용 예시\n",
    "original = \"안녕하세요\"\n",
    "reversed_text = reverse_string_simple(original)\n",
    "print(f\"원본: {original}\")      # 원본: 안녕하세요\n",
    "print(f\"뒤집힌: {reversed_text}\")  # 뒤집힌: 요세하녕안"
   ]
  },
  {
   "cell_type": "markdown",
   "id": "af437d0c",
   "metadata": {},
   "source": [
    "2단계: reversed() 함수 사용\n",
    "reversed() 함수는 순서를 뒤바꾸는 파이썬 내장 함수입니다.\n",
    "심상화: 줄을 선 사람들에게 \"뒤돌아서서 반대 방향으로 서세요\"라고 명령하는 것과 같습니다."
   ]
  },
  {
   "cell_type": "code",
   "execution_count": null,
   "id": "83e5956e",
   "metadata": {},
   "outputs": [],
   "source": [
    "def reverse_string_builtin(text):\n",
    "    \"\"\"reversed() 함수로 문자열 뒤집기\"\"\"\n",
    "    return ''.join(reversed(text))\n",
    "\n",
    "# 사용 예시\n",
    "result = reverse_string_builtin(\"hello\")\n",
    "print(result)  # olleh"
   ]
  },
  {
   "cell_type": "code",
   "execution_count": null,
   "id": "8dde18c3",
   "metadata": {},
   "outputs": [
    {
     "name": "stdout",
     "output_type": "stream",
     "text": [
      "<reversed object at 0x00000194716A1720>\n"
     ]
    }
   ],
   "source": [
    "text = \"lleh\"\n",
    "print(reversed(text))"
   ]
  }
 ],
 "metadata": {
  "kernelspec": {
   "display_name": "Python 3",
   "language": "python",
   "name": "python3"
  },
  "language_info": {
   "codemirror_mode": {
    "name": "ipython",
    "version": 3
   },
   "file_extension": ".py",
   "mimetype": "text/x-python",
   "name": "python",
   "nbconvert_exporter": "python",
   "pygments_lexer": "ipython3",
   "version": "3.13.5"
  }
 },
 "nbformat": 4,
 "nbformat_minor": 5
}
