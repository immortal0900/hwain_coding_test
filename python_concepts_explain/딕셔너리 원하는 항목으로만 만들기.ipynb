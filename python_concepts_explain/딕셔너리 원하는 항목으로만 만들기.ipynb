{
 "cells": [
  {
   "cell_type": "code",
   "execution_count": null,
   "id": "7592441e",
   "metadata": {},
   "outputs": [],
   "source": [
    "# 15만원 이상인 상품들만 딕셔너리로 만들고 싶어요\n",
    "wishlist = {\"노트북\": 1200000, \"마우스\": 33000, \"키보드\": 110000, \"모니터\": 290000}\n",
    "new_dict = {}\n",
    "\n",
    "for key,value in wishlist.items():\n",
    "    if value >= 1500000:\n",
    "        new_dict[key] = value # 반복되므로 가능함\n",
    "\n",
    "        \n",
    "\n",
    "print(new_dict)"
   ]
  },
  {
   "cell_type": "code",
   "execution_count": null,
   "id": "dc1da8f9",
   "metadata": {},
   "outputs": [],
   "source": [
    "my_dict = {key:value for key, value in wishlist.items() if value >= 150000}\n",
    "print(my_dict)"
   ]
  }
 ],
 "metadata": {
  "language_info": {
   "name": "python"
  }
 },
 "nbformat": 4,
 "nbformat_minor": 5
}
