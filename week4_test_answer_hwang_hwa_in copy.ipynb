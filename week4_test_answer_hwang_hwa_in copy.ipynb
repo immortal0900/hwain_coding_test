{
 "cells": [
  {
   "cell_type": "markdown",
   "id": "7a807347",
   "metadata": {},
   "source": [
    "# 파이썬 자료열 문제\n",
    "## 리스트\n",
    "### 1번 문제\n",
    "- 숫자 1, 2, 3, 4, 5로 구성된 리스트를 만들어 출력해보세요. ^^\n"
   ]
  },
  {
   "cell_type": "code",
   "execution_count": 1,
   "id": "f029a45d",
   "metadata": {},
   "outputs": [
    {
     "name": "stdout",
     "output_type": "stream",
     "text": [
      "[1, 2, 3, 4, 5]\n"
     ]
    }
   ],
   "source": [
    "num = [1, 2, 3, 4, 5]\n",
    "print(num)"
   ]
  },
  {
   "cell_type": "markdown",
   "id": "539e182a",
   "metadata": {},
   "source": [
    "### 2번 문제\n",
    "- 리스트 ['apple', 'banana', 'cherry'] 에서 두 번째 값을 출력해보세요."
   ]
  },
  {
   "cell_type": "code",
   "execution_count": 3,
   "id": "30e3a735",
   "metadata": {},
   "outputs": [
    {
     "name": "stdout",
     "output_type": "stream",
     "text": [
      "banana\n"
     ]
    }
   ],
   "source": [
    "fruits = ['apple', 'banana', 'cherry']\n",
    "index_2 = fruits[1]\n",
    "print(index_2)"
   ]
  },
  {
   "cell_type": "markdown",
   "id": "47ae2be7",
   "metadata": {},
   "source": [
    "### 3번 문제\n",
    "- 리스트 [1, 2, 3] 에 숫자 4를 추가해서 출력해보세요."
   ]
  },
  {
   "cell_type": "code",
   "execution_count": 3,
   "id": "0b6c667d",
   "metadata": {},
   "outputs": [
    {
     "name": "stdout",
     "output_type": "stream",
     "text": [
      "[1, 2, 3, 4]\n"
     ]
    }
   ],
   "source": [
    "mylist = [1, 2, 3]\n",
    "mylist.append(4)\n",
    "print(mylist)"
   ]
  },
  {
   "cell_type": "markdown",
   "id": "a7defc6b",
   "metadata": {},
   "source": [
    "### 4번 문제\n",
    "- 리스트 [10, 20, 30, 40] 의 첫 번째 값을 100으로 바꾸고 출력해보세요."
   ]
  },
  {
   "cell_type": "code",
   "execution_count": 4,
   "id": "7b03387a",
   "metadata": {},
   "outputs": [
    {
     "name": "stdout",
     "output_type": "stream",
     "text": [
      "[10, 100, 30, 40]\n"
     ]
    }
   ],
   "source": [
    "mylist = [10, 20, 30, 40]\n",
    "mylist[1] = 100\n",
    "print(mylist)"
   ]
  },
  {
   "cell_type": "markdown",
   "id": "aa46f3ef",
   "metadata": {},
   "source": [
    "### 5번 문제\n",
    "- 리스트 [1, 2, 3, 4, 5] 의 길이를 출력해보세요."
   ]
  },
  {
   "cell_type": "code",
   "execution_count": 5,
   "id": "a902ec9d",
   "metadata": {},
   "outputs": [
    {
     "data": {
      "text/plain": [
       "5"
      ]
     },
     "execution_count": 5,
     "metadata": {},
     "output_type": "execute_result"
    }
   ],
   "source": [
    "data = [1, 2, 3, 4, 5]\n",
    "\n",
    "len(data)"
   ]
  },
  {
   "cell_type": "markdown",
   "id": "110d76b0",
   "metadata": {},
   "source": [
    "### 6번 문제\n",
    "- 빈 리스트를 만들고 여기에 숫자 10, 20, 30을 차례로 추가한 뒤 출력해보세요."
   ]
  },
  {
   "cell_type": "code",
   "execution_count": 7,
   "id": "52a62cb4",
   "metadata": {},
   "outputs": [
    {
     "name": "stdout",
     "output_type": "stream",
     "text": [
      "[10, 20, 30]\n"
     ]
    }
   ],
   "source": [
    "data = []\n",
    "data.append(10)\n",
    "data.append(20)\n",
    "data.append(30)\n",
    "print(data)"
   ]
  },
  {
   "cell_type": "markdown",
   "id": "9f25c34d",
   "metadata": {},
   "source": [
    "### 7번 문제\n",
    "- 리스트 [1, 2, 3, 4, 5] 에서 마지막 요소를 제거하고 출력해보세요."
   ]
  },
  {
   "cell_type": "code",
   "execution_count": 8,
   "id": "df42170a",
   "metadata": {},
   "outputs": [
    {
     "name": "stdout",
     "output_type": "stream",
     "text": [
      "[1, 2, 3, 4]\n"
     ]
    }
   ],
   "source": [
    "data =[1, 2, 3, 4, 5]\n",
    "data.pop()\n",
    "print(data)\n"
   ]
  },
  {
   "cell_type": "markdown",
   "id": "a5b5f648",
   "metadata": {},
   "source": [
    "### 8번 문제\n",
    "- 리스트 ['a', 'b', 'c'] 에 리스트 ['d', 'e'] 를 더한 결과를 출력해보세요."
   ]
  },
  {
   "cell_type": "code",
   "execution_count": 9,
   "id": "c7171cc2",
   "metadata": {},
   "outputs": [
    {
     "data": {
      "text/plain": [
       "['a', 'b', 'c', 'd', 'e']"
      ]
     },
     "execution_count": 9,
     "metadata": {},
     "output_type": "execute_result"
    }
   ],
   "source": [
    "data = ['a', 'b', 'c'] \n",
    "data + ['d','e']"
   ]
  },
  {
   "cell_type": "markdown",
   "id": "a90e9e45",
   "metadata": {},
   "source": [
    "### 9번 문제\n",
    "- 리스트 [1, 2, 3, 4, 5] 에서 중간의 3을 삭제하고 출력해보세요."
   ]
  },
  {
   "cell_type": "code",
   "execution_count": 11,
   "id": "17b4ee1c",
   "metadata": {},
   "outputs": [
    {
     "name": "stdout",
     "output_type": "stream",
     "text": [
      "[1, 2, 4, 5]\n"
     ]
    }
   ],
   "source": [
    "data = [1, 2, 3, 4, 5]\n",
    "del data[2]\n",
    "print(data)"
   ]
  },
  {
   "cell_type": "markdown",
   "id": "8d386f18",
   "metadata": {},
   "source": [
    "### 10번 문제\n",
    "- 리스트 [100, 200, 300] 을 문자열로 변환해서 출력해보세요. (힌트: str() 사용) "
   ]
  },
  {
   "cell_type": "code",
   "execution_count": 12,
   "id": "b478845d",
   "metadata": {},
   "outputs": [
    {
     "name": "stdout",
     "output_type": "stream",
     "text": [
      "<class 'str'>\n"
     ]
    }
   ],
   "source": [
    "data = [100, 200, 300]\n",
    "str(data)\n",
    "print(str)"
   ]
  },
  {
   "cell_type": "markdown",
   "id": "edd4d470",
   "metadata": {},
   "source": [
    "## 튜플\n",
    "### 1번 문제\n",
    "- 숫자 1, 2, 3이 들어 있는 튜플을 만들어 출력해보세요."
   ]
  },
  {
   "cell_type": "code",
   "execution_count": 13,
   "id": "e130fdb7",
   "metadata": {},
   "outputs": [
    {
     "name": "stdout",
     "output_type": "stream",
     "text": [
      "(1, 2, 3)\n"
     ]
    }
   ],
   "source": [
    "tuple = (1,2,3)\n",
    "print(tuple)"
   ]
  },
  {
   "cell_type": "markdown",
   "id": "7af169c9",
   "metadata": {},
   "source": [
    "### 2번 문제\n",
    "튜플 (10, 20, 30) 에서 두 번째 값을 출력해보세요."
   ]
  },
  {
   "cell_type": "code",
   "execution_count": 14,
   "id": "094c03f9",
   "metadata": {},
   "outputs": [
    {
     "name": "stdout",
     "output_type": "stream",
     "text": [
      "30\n"
     ]
    }
   ],
   "source": [
    "data = (10, 20, 30)\n",
    "print(data[2])"
   ]
  },
  {
   "cell_type": "markdown",
   "id": "40387586",
   "metadata": {},
   "source": [
    "### 3번 문제\n",
    "- 문자열 3개가 들어 있는 튜플을 만들어 출력해보세요."
   ]
  },
  {
   "cell_type": "code",
   "execution_count": 1,
   "id": "1d62dff8",
   "metadata": {},
   "outputs": [
    {
     "name": "stdout",
     "output_type": "stream",
     "text": [
      "('apple', 'banana', 'orange')\n"
     ]
    }
   ],
   "source": [
    "data = ('apple','banana','orange')\n",
    "print(data)"
   ]
  },
  {
   "cell_type": "markdown",
   "id": "17dd757f",
   "metadata": {},
   "source": [
    "### 4번 문제\n",
    "- 튜플 (1, 2, 3) 과 (4, 5) 를 더한 결과를 출력해보세요."
   ]
  },
  {
   "cell_type": "code",
   "execution_count": 2,
   "id": "5ba7ccd5",
   "metadata": {},
   "outputs": [
    {
     "name": "stdout",
     "output_type": "stream",
     "text": [
      "(1, 2, 3, 4, 5)\n"
     ]
    }
   ],
   "source": [
    "a = (1,2,3)\n",
    "b = (4,5)\n",
    "print(a+b)"
   ]
  },
  {
   "cell_type": "markdown",
   "id": "b157aa80",
   "metadata": {},
   "source": [
    "### 5번 문제\n",
    "-튜플 (100,) 을 만들어 출력해보세요. (힌트: 쉼표!)"
   ]
  },
  {
   "cell_type": "code",
   "execution_count": 3,
   "id": "7c6ef3d7",
   "metadata": {},
   "outputs": [
    {
     "data": {
      "text/plain": [
       "(100,)"
      ]
     },
     "execution_count": 3,
     "metadata": {},
     "output_type": "execute_result"
    }
   ],
   "source": [
    "a = (100,)\n",
    "a"
   ]
  },
  {
   "cell_type": "markdown",
   "id": "181b9800",
   "metadata": {},
   "source": [
    "### 6번 문제\n",
    "- 튜플 (1, 2, 3, 4, 5) 에서 슬라이싱을 이용해 (2, 3, 4) 를 출력해보세요."
   ]
  },
  {
   "cell_type": "code",
   "execution_count": 4,
   "id": "b26b64aa",
   "metadata": {},
   "outputs": [
    {
     "name": "stdout",
     "output_type": "stream",
     "text": [
      "(2, 3, 4)\n"
     ]
    }
   ],
   "source": [
    "a = (1,2,3,4,5)\n",
    "print(a[1:4])\n"
   ]
  },
  {
   "cell_type": "markdown",
   "id": "e7cf4e5d",
   "metadata": {},
   "source": [
    "### 7번 문제\n",
    "- 튜플을 리스트로 변환하고, 변환된 리스트를 출력해보세요."
   ]
  },
  {
   "cell_type": "code",
   "execution_count": 5,
   "id": "1ebc8dd7",
   "metadata": {},
   "outputs": [
    {
     "name": "stdout",
     "output_type": "stream",
     "text": [
      "[1, 2, 3]\n"
     ]
    }
   ],
   "source": [
    "a = (1,2,3)\n",
    "b = list(a)\n",
    "print(b)"
   ]
  },
  {
   "cell_type": "markdown",
   "id": "c9542966",
   "metadata": {},
   "source": [
    "### 8번 문제\n",
    "- 리스트 [1, 2, 3] 을 튜플로 바꾸고 출력해보세요."
   ]
  },
  {
   "cell_type": "code",
   "execution_count": 7,
   "id": "24038023",
   "metadata": {},
   "outputs": [
    {
     "name": "stdout",
     "output_type": "stream",
     "text": [
      "(1, 2, 3)\n"
     ]
    }
   ],
   "source": [
    "a = [1,2,3]\n",
    "b = tuple(a)\n",
    "print(b)"
   ]
  },
  {
   "cell_type": "markdown",
   "id": "abebe2a8",
   "metadata": {},
   "source": [
    "### 9번 문제\n",
    "- 빈 튜플을 만들어 출력해보세요."
   ]
  },
  {
   "cell_type": "code",
   "execution_count": 8,
   "id": "6b78f93c",
   "metadata": {},
   "outputs": [
    {
     "name": "stdout",
     "output_type": "stream",
     "text": [
      "()\n"
     ]
    }
   ],
   "source": [
    "a = ()\n",
    "print(a)\n",
    "\n"
   ]
  },
  {
   "cell_type": "markdown",
   "id": "dfd56703",
   "metadata": {},
   "source": [
    "### 10번 문제\n",
    "- 튜플 (1, 2, 3, 4) 의 길이를 출력해보세요."
   ]
  },
  {
   "cell_type": "code",
   "execution_count": 9,
   "id": "4c00d02d",
   "metadata": {},
   "outputs": [
    {
     "name": "stdout",
     "output_type": "stream",
     "text": [
      "4\n"
     ]
    }
   ],
   "source": [
    "a = (1,2,3,4)\n",
    "print(len(a))\n"
   ]
  },
  {
   "cell_type": "markdown",
   "id": "644f6ad4",
   "metadata": {},
   "source": [
    "# 딕셔너리 연습문제\n",
    "### 1번 문제\n",
    "- 이름과 나이를 나타내는 딕셔너리 {\"name\": \"Tom\", \"age\" 20} 을 만들어 출력해보세요."
   ]
  },
  {
   "cell_type": "code",
   "execution_count": 10,
   "id": "00d5dcde",
   "metadata": {},
   "outputs": [
    {
     "name": "stdout",
     "output_type": "stream",
     "text": [
      "{'name': 'Tom', 'age': 20}\n"
     ]
    }
   ],
   "source": [
    "\n",
    "a = {\"name\": \"Tom\", \"age\": 20}\n",
    "print(a)"
   ]
  },
  {
   "cell_type": "markdown",
   "id": "21c3ba18",
   "metadata": {},
   "source": [
    "\n",
    "### 2번 문제\n",
    "- 딕셔너리에서 \"name\" 키에 해당하는 값을 출력해보세요."
   ]
  },
  {
   "cell_type": "code",
   "execution_count": 11,
   "id": "f964ae57",
   "metadata": {},
   "outputs": [
    {
     "name": "stdout",
     "output_type": "stream",
     "text": [
      "Tom\n"
     ]
    }
   ],
   "source": [
    "print(a['name'])"
   ]
  },
  {
   "cell_type": "markdown",
   "id": "5361d3c5",
   "metadata": {},
   "source": [
    "\n",
    "### 3번 문제\n",
    "- 딕셔너리에 \"city\": \"Seoul\" 항목을 추가하고 출력해보세요."
   ]
  },
  {
   "cell_type": "code",
   "execution_count": 13,
   "id": "38eb508e",
   "metadata": {},
   "outputs": [
    {
     "data": {
      "text/plain": [
       "{'name': 'Tom', 'age': 20, 'city': 'seoul'}"
      ]
     },
     "execution_count": 13,
     "metadata": {},
     "output_type": "execute_result"
    }
   ],
   "source": [
    "b = a[\"city\"] = 'seoul'\n",
    "a"
   ]
  },
  {
   "cell_type": "markdown",
   "id": "8663894a",
   "metadata": {},
   "source": [
    "\n",
    "### 4번 문제\n",
    "- 딕셔너리의 \"age\" 값을 25로 바꾸고 출력해보세요."
   ]
  },
  {
   "cell_type": "code",
   "execution_count": 14,
   "id": "84094b1d",
   "metadata": {},
   "outputs": [
    {
     "name": "stdout",
     "output_type": "stream",
     "text": [
      "{'name': 'Tom', 'age': 25, 'city': 'seoul'}\n"
     ]
    }
   ],
   "source": [
    "a['age'] = 25\n",
    "print(a)"
   ]
  },
  {
   "cell_type": "markdown",
   "id": "6ec1b3b4",
   "metadata": {},
   "source": [
    "\n",
    "### 5번 문제\n",
    "- 딕셔너리에서 \"name\" 항목을 삭제하고 출력해보세요."
   ]
  },
  {
   "cell_type": "code",
   "execution_count": 15,
   "id": "05066d8d",
   "metadata": {},
   "outputs": [
    {
     "name": "stdout",
     "output_type": "stream",
     "text": [
      "{'age': 25, 'city': 'seoul'}\n"
     ]
    }
   ],
   "source": [
    "del a['name']\n",
    "print(a)"
   ]
  },
  {
   "cell_type": "markdown",
   "id": "08724284",
   "metadata": {},
   "source": [
    "\n",
    "### 6번 문제\n",
    "- 딕셔너리에서 모든 키만 출력해보세요."
   ]
  },
  {
   "cell_type": "code",
   "execution_count": 17,
   "id": "794f3ec1",
   "metadata": {},
   "outputs": [
    {
     "name": "stdout",
     "output_type": "stream",
     "text": [
      "dict_keys(['age', 'city'])\n"
     ]
    }
   ],
   "source": [
    "print(a.keys())"
   ]
  },
  {
   "cell_type": "markdown",
   "id": "c4ca6f66",
   "metadata": {},
   "source": [
    "\n",
    "### 7번 문제\n",
    "- 딕셔너리에서 모든 값만 출력해보세요."
   ]
  },
  {
   "cell_type": "code",
   "execution_count": 18,
   "id": "db7c7f3c",
   "metadata": {},
   "outputs": [
    {
     "data": {
      "text/plain": [
       "dict_values([25, 'seoul'])"
      ]
     },
     "execution_count": 18,
     "metadata": {},
     "output_type": "execute_result"
    }
   ],
   "source": [
    "a.values()"
   ]
  },
  {
   "cell_type": "markdown",
   "id": "5d397070",
   "metadata": {},
   "source": [
    "\n",
    "### 8번 문제\n",
    "- 빈 딕셔너리를 만들고 \"a\" 1 , \"b\" 2 를 추가해 출력해보세요."
   ]
  },
  {
   "cell_type": "code",
   "execution_count": 22,
   "id": "6f19d90b",
   "metadata": {},
   "outputs": [
    {
     "data": {
      "text/plain": [
       "{'a': 1, 'b': 2}"
      ]
     },
     "execution_count": 22,
     "metadata": {},
     "output_type": "execute_result"
    }
   ],
   "source": [
    "mydict = {}\n",
    "mydict['a'] = 1\n",
    "mydict['b'] = 2\n",
    "mydict"
   ]
  },
  {
   "cell_type": "markdown",
   "id": "ff51a115",
   "metadata": {},
   "source": [
    "\n",
    "### 9번 문제\n",
    "- 딕셔너리에서 특정 키가 존재하는지 확인하는 방법을 사용해보세요. ( in 연산자 사용)"
   ]
  },
  {
   "cell_type": "code",
   "execution_count": 23,
   "id": "8933ce67",
   "metadata": {},
   "outputs": [
    {
     "data": {
      "text/plain": [
       "True"
      ]
     },
     "execution_count": 23,
     "metadata": {},
     "output_type": "execute_result"
    }
   ],
   "source": [
    "'a' in mydict"
   ]
  },
  {
   "cell_type": "markdown",
   "id": "70f48e87",
   "metadata": {},
   "source": [
    "\n",
    "### 10번 문제\n",
    "- 딕셔너리의 전체 항목 수(길이)를 출력해보세요."
   ]
  },
  {
   "cell_type": "code",
   "execution_count": 24,
   "id": "a6f51717",
   "metadata": {},
   "outputs": [
    {
     "data": {
      "text/plain": [
       "2"
      ]
     },
     "execution_count": 24,
     "metadata": {},
     "output_type": "execute_result"
    }
   ],
   "source": [
    "len(mydict)"
   ]
  },
  {
   "cell_type": "markdown",
   "id": "dc519666",
   "metadata": {},
   "source": [
    "# 집합문제\n",
    "### 1번 문제\n",
    "- 숫자 1, 2, 3이 들어 있는 집합을 만들어 출력해보세요."
   ]
  },
  {
   "cell_type": "code",
   "execution_count": 26,
   "id": "615741b4",
   "metadata": {},
   "outputs": [
    {
     "data": {
      "text/plain": [
       "{1, 2, 3}"
      ]
     },
     "execution_count": 26,
     "metadata": {},
     "output_type": "execute_result"
    }
   ],
   "source": [
    "a = {1,2,3}\n",
    "a"
   ]
  },
  {
   "cell_type": "code",
   "execution_count": null,
   "id": "ee9addb1",
   "metadata": {},
   "outputs": [],
   "source": [
    "### 2번 문제\n",
    "리스트 [1, 2, 2, 3, 3, 3] 을 집합으로 변환해서 출력해보세요."
   ]
  },
  {
   "cell_type": "code",
   "execution_count": 27,
   "id": "9f8f2ea1",
   "metadata": {},
   "outputs": [
    {
     "name": "stdout",
     "output_type": "stream",
     "text": [
      "{1, 2, 3}\n"
     ]
    }
   ],
   "source": [
    "a = [1, 2, 2, 3, 3, 3]\n",
    "print(set(a))\n"
   ]
  },
  {
   "cell_type": "code",
   "execution_count": null,
   "id": "0f161bf9",
   "metadata": {},
   "outputs": [],
   "source": [
    "### 3번 문제\n",
    "집합 {1, 2, 3} 에 숫자 4를 추가하고 출력해보세요."
   ]
  },
  {
   "cell_type": "code",
   "execution_count": 28,
   "id": "2c03e31c",
   "metadata": {},
   "outputs": [
    {
     "ename": "AttributeError",
     "evalue": "'set' object has no attribute 'append'",
     "output_type": "error",
     "traceback": [
      "\u001b[31m---------------------------------------------------------------------------\u001b[39m",
      "\u001b[31mAttributeError\u001b[39m                            Traceback (most recent call last)",
      "\u001b[36mCell\u001b[39m\u001b[36m \u001b[39m\u001b[32mIn[28]\u001b[39m\u001b[32m, line 2\u001b[39m\n\u001b[32m      1\u001b[39m a = {\u001b[32m1\u001b[39m, \u001b[32m2\u001b[39m, \u001b[32m3\u001b[39m}\n\u001b[32m----> \u001b[39m\u001b[32m2\u001b[39m \u001b[38;5;28mprint\u001b[39m(\u001b[43ma\u001b[49m\u001b[43m.\u001b[49m\u001b[43mappend\u001b[49m(\u001b[32m4\u001b[39m))\n",
      "\u001b[31mAttributeError\u001b[39m: 'set' object has no attribute 'append'"
     ]
    }
   ],
   "source": [
    "a = {1, 2, 3}\n",
    "print(a.append(4))"
   ]
  },
  {
   "cell_type": "code",
   "execution_count": null,
   "id": "f89d8176",
   "metadata": {},
   "outputs": [],
   "source": [
    "### 4번 문제\n",
    "집합 {1, 2, 3, 4} 에서 2를 제거하고 출력해보세요."
   ]
  },
  {
   "cell_type": "code",
   "execution_count": 30,
   "id": "ea26d861",
   "metadata": {},
   "outputs": [
    {
     "data": {
      "text/plain": [
       "{1, 3, 4}"
      ]
     },
     "execution_count": 30,
     "metadata": {},
     "output_type": "execute_result"
    }
   ],
   "source": [
    "a = {1,2,3,4}\n",
    "a.remove(2)\n",
    "a"
   ]
  },
  {
   "cell_type": "code",
   "execution_count": null,
   "id": "ff39886b",
   "metadata": {},
   "outputs": [],
   "source": [
    "### 5번 문제\n",
    "- 두 집합 {1, 2, 3} 과 {3, 4, 5} 의 합집합을 출력해보세요."
   ]
  },
  {
   "cell_type": "code",
   "execution_count": 31,
   "id": "48ca7a34",
   "metadata": {},
   "outputs": [
    {
     "name": "stdout",
     "output_type": "stream",
     "text": [
      "{1, 2, 3, 4, 5}\n"
     ]
    }
   ],
   "source": [
    "a = {1,2,3}\n",
    "b = {3,4,5}\n",
    "print(a | b)"
   ]
  },
  {
   "cell_type": "code",
   "execution_count": null,
   "id": "cd9fe1f1",
   "metadata": {},
   "outputs": [],
   "source": [
    "### 6번 문제\n",
    "- 두 집합 {1, 2, 3} 과 {3, 4, 5} 의 교집합을 출력해보세요."
   ]
  },
  {
   "cell_type": "code",
   "execution_count": 32,
   "id": "32a44e80",
   "metadata": {},
   "outputs": [
    {
     "name": "stdout",
     "output_type": "stream",
     "text": [
      "{3}\n"
     ]
    }
   ],
   "source": [
    "print(a&b)"
   ]
  },
  {
   "cell_type": "code",
   "execution_count": null,
   "id": "87c6fc72",
   "metadata": {},
   "outputs": [],
   "source": [
    "### 7번 문제\n",
    "- 두 집합 {1, 2, 3} 과 {3, 4, 5} 의 차집합(첫 번째 집합에서만 있는 값)을 출력해보세요."
   ]
  },
  {
   "cell_type": "code",
   "execution_count": 33,
   "id": "86688cd4",
   "metadata": {},
   "outputs": [
    {
     "name": "stdout",
     "output_type": "stream",
     "text": [
      "{1, 2}\n"
     ]
    }
   ],
   "source": [
    "print(a - b)\n"
   ]
  },
  {
   "cell_type": "code",
   "execution_count": null,
   "id": "bf66b11d",
   "metadata": {},
   "outputs": [],
   "source": [
    "### 8번 문제\n",
    "- 집합의 길이를 출력해보세요."
   ]
  },
  {
   "cell_type": "code",
   "execution_count": 34,
   "id": "e53b6ce6",
   "metadata": {},
   "outputs": [
    {
     "data": {
      "text/plain": [
       "3"
      ]
     },
     "execution_count": 34,
     "metadata": {},
     "output_type": "execute_result"
    }
   ],
   "source": [
    "len(a)"
   ]
  },
  {
   "cell_type": "code",
   "execution_count": null,
   "id": "d0f8449b",
   "metadata": {},
   "outputs": [],
   "source": [
    "### 9번 문제\n",
    "빈 집합을 만들고 여기에 10, 20을 추가해 출력해보세요. (주의: {} 는 딕셔너리입니다)"
   ]
  },
  {
   "cell_type": "code",
   "execution_count": 40,
   "id": "e8fc4281",
   "metadata": {},
   "outputs": [
    {
     "ename": "AttributeError",
     "evalue": "'set' object has no attribute 'append'",
     "output_type": "error",
     "traceback": [
      "\u001b[31m---------------------------------------------------------------------------\u001b[39m",
      "\u001b[31mAttributeError\u001b[39m                            Traceback (most recent call last)",
      "\u001b[36mCell\u001b[39m\u001b[36m \u001b[39m\u001b[32mIn[40]\u001b[39m\u001b[32m, line 2\u001b[39m\n\u001b[32m      1\u001b[39m a = \u001b[38;5;28mset\u001b[39m()\n\u001b[32m----> \u001b[39m\u001b[32m2\u001b[39m \u001b[43ma\u001b[49m\u001b[43m.\u001b[49m\u001b[43mappend\u001b[49m(\u001b[32m10\u001b[39m)\n\u001b[32m      3\u001b[39m a.append(\u001b[32m20\u001b[39m)\n\u001b[32m      4\u001b[39m adf\n",
      "\u001b[31mAttributeError\u001b[39m: 'set' object has no attribute 'append'"
     ]
    }
   ],
   "source": [
    "a = set()\n",
    "a.append(10)\n",
    "a.append(20)\n",
    "adf\n"
   ]
  },
  {
   "cell_type": "code",
   "execution_count": null,
   "id": "8af00943",
   "metadata": {},
   "outputs": [],
   "source": [
    "### 10번 문제\n",
    "- 집합을 리스트로 바꾸고 출력해보세요."
   ]
  },
  {
   "cell_type": "code",
   "execution_count": 41,
   "id": "b5eb7526",
   "metadata": {},
   "outputs": [
    {
     "data": {
      "text/plain": [
       "[]"
      ]
     },
     "execution_count": 41,
     "metadata": {},
     "output_type": "execute_result"
    }
   ],
   "source": [
    "list(a)"
   ]
  }
 ],
 "metadata": {
  "kernelspec": {
   "display_name": "Python 3",
   "language": "python",
   "name": "python3"
  },
  "language_info": {
   "codemirror_mode": {
    "name": "ipython",
    "version": 3
   },
   "file_extension": ".py",
   "mimetype": "text/x-python",
   "name": "python",
   "nbconvert_exporter": "python",
   "pygments_lexer": "ipython3",
   "version": "3.13.5"
  }
 },
 "nbformat": 4,
 "nbformat_minor": 5
}
