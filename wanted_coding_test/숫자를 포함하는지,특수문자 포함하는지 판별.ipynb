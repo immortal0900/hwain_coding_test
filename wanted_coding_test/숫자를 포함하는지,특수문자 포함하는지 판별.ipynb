{
 "cells": [
  {
   "cell_type": "markdown",
   "id": "0511b233",
   "metadata": {},
   "source": [
    "## Quiz 6. 비밀번호 강도를 검사하는 함수를 작성하세요.\n",
    "- 길이가 8자 미만이면 \"약함\"\n",
    "- 길이가 8자 이상이고 숫자를 포함하면 \"중간\"\n",
    "- 길이가 8자 이상이고 숫자와 특수문자(!@#$)를 포함하면 \"강함\""
   ]
  },
  {
   "cell_type": "code",
   "execution_count": null,
   "id": "beb21f11",
   "metadata": {},
   "outputs": [],
   "source": [
    "def check_password_strength(password):\n",
    "    if len(password) < 8:\n",
    "        return '약함'\n",
    "    is_digit = any(i for i in password if i in '1234567890')\n",
    "    is_special = any(i for i in password if i in '!@#$')\n",
    "# any 는  하나라도 참이면 True\n",
    "    if is_digit and is_special:\n",
    "        return '강함'\n",
    "    elif is_digit:\n",
    "        return '중간'\n",
    "    else:\n",
    "        return '약함'  # 8자는 넘는데 숫자 없는 애들"
   ]
  },
  {
   "cell_type": "code",
   "execution_count": null,
   "id": "d52856ae",
   "metadata": {},
   "outputs": [],
   "source": [
    "def check_password_strength(password):\n",
    "    if len(password) < 8:\n",
    "        return '약함'\n",
    "    is_digit = False\n",
    "    is_special = False\n",
    "\n",
    "    for i in password:\n",
    "        if i in '1234567890':\n",
    "            is_digit = True\n",
    "        if i in '!@#$':\n",
    "            is_special = True\n",
    "\n",
    "    if is_digit and is_special:\n",
    "        return '강함'\n",
    "    elif is_digit:\n",
    "        return '중간'\n",
    "    else:\n",
    "        return '약함' "
   ]
  },
  {
   "cell_type": "code",
   "execution_count": null,
   "id": "fc19f3d8",
   "metadata": {},
   "outputs": [],
   "source": [
    "# 테스트\n",
    "print(\"6번 문제 결과:\", check_password_strength(\"abc123!@\"))  # 예상 결과: 강함"
   ]
  }
 ],
 "metadata": {
  "kernelspec": {
   "display_name": "Python 3",
   "language": "python",
   "name": "python3"
  },
  "language_info": {
   "name": "python",
   "version": "3.13.5"
  }
 },
 "nbformat": 4,
 "nbformat_minor": 5
}
